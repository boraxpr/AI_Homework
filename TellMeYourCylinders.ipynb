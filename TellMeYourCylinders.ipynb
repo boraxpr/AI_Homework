{
  "nbformat": 4,
  "nbformat_minor": 0,
  "metadata": {
    "colab": {
      "name": "TellMeYourCylinders.ipynb",
      "provenance": [],
      "collapsed_sections": []
    },
    "kernelspec": {
      "name": "python3",
      "display_name": "Python 3"
    }
  },
  "cells": [
    {
      "cell_type": "code",
      "metadata": {
        "id": "ILV7BllWcWI3",
        "colab_type": "code",
        "outputId": "6c156beb-685b-4de0-9a88-f0d27d3a8756",
        "colab": {
          "base_uri": "https://localhost:8080/",
          "height": 208
        }
      },
      "source": [
        "!wget https://raw.githubusercontent.com/plotly/datasets/master/auto-mpg.csv"
      ],
      "execution_count": 0,
      "outputs": [
        {
          "output_type": "stream",
          "text": [
            "--2020-02-19 13:42:42--  https://raw.githubusercontent.com/plotly/datasets/master/auto-mpg.csv\n",
            "Resolving raw.githubusercontent.com (raw.githubusercontent.com)... 151.101.0.133, 151.101.64.133, 151.101.128.133, ...\n",
            "Connecting to raw.githubusercontent.com (raw.githubusercontent.com)|151.101.0.133|:443... connected.\n",
            "HTTP request sent, awaiting response... 200 OK\n",
            "Length: 10118 (9.9K) [text/plain]\n",
            "Saving to: ‘auto-mpg.csv.8’\n",
            "\n",
            "\rauto-mpg.csv.8        0%[                    ]       0  --.-KB/s               \rauto-mpg.csv.8      100%[===================>]   9.88K  --.-KB/s    in 0s      \n",
            "\n",
            "2020-02-19 13:42:42 (159 MB/s) - ‘auto-mpg.csv.8’ saved [10118/10118]\n",
            "\n"
          ],
          "name": "stdout"
        }
      ]
    },
    {
      "cell_type": "code",
      "metadata": {
        "id": "V2AoTyeacpqM",
        "colab_type": "code",
        "outputId": "aa5dc750-2d41-4889-dc5c-ecac1fd5382e",
        "colab": {
          "base_uri": "https://localhost:8080/",
          "height": 206
        }
      },
      "source": [
        "import pandas as pd\n",
        "import matplotlib.pyplot as plt\n",
        "import seaborn as sns\n",
        "\n",
        "df = pd.read_csv('auto-mpg.csv')\n",
        "df.head()"
      ],
      "execution_count": 0,
      "outputs": [
        {
          "output_type": "execute_result",
          "data": {
            "text/html": [
              "<div>\n",
              "<style scoped>\n",
              "    .dataframe tbody tr th:only-of-type {\n",
              "        vertical-align: middle;\n",
              "    }\n",
              "\n",
              "    .dataframe tbody tr th {\n",
              "        vertical-align: top;\n",
              "    }\n",
              "\n",
              "    .dataframe thead th {\n",
              "        text-align: right;\n",
              "    }\n",
              "</style>\n",
              "<table border=\"1\" class=\"dataframe\">\n",
              "  <thead>\n",
              "    <tr style=\"text-align: right;\">\n",
              "      <th></th>\n",
              "      <th>mpg</th>\n",
              "      <th>cylinders</th>\n",
              "      <th>displacement</th>\n",
              "      <th>horsepower</th>\n",
              "      <th>weight</th>\n",
              "      <th>acceleration</th>\n",
              "      <th>model-year</th>\n",
              "    </tr>\n",
              "  </thead>\n",
              "  <tbody>\n",
              "    <tr>\n",
              "      <th>0</th>\n",
              "      <td>18.0</td>\n",
              "      <td>8</td>\n",
              "      <td>307.0</td>\n",
              "      <td>130.0</td>\n",
              "      <td>3504</td>\n",
              "      <td>12.0</td>\n",
              "      <td>70</td>\n",
              "    </tr>\n",
              "    <tr>\n",
              "      <th>1</th>\n",
              "      <td>15.0</td>\n",
              "      <td>8</td>\n",
              "      <td>350.0</td>\n",
              "      <td>165.0</td>\n",
              "      <td>3693</td>\n",
              "      <td>11.5</td>\n",
              "      <td>70</td>\n",
              "    </tr>\n",
              "    <tr>\n",
              "      <th>2</th>\n",
              "      <td>18.0</td>\n",
              "      <td>8</td>\n",
              "      <td>318.0</td>\n",
              "      <td>150.0</td>\n",
              "      <td>3436</td>\n",
              "      <td>11.0</td>\n",
              "      <td>70</td>\n",
              "    </tr>\n",
              "    <tr>\n",
              "      <th>3</th>\n",
              "      <td>16.0</td>\n",
              "      <td>8</td>\n",
              "      <td>304.0</td>\n",
              "      <td>150.0</td>\n",
              "      <td>3433</td>\n",
              "      <td>12.0</td>\n",
              "      <td>70</td>\n",
              "    </tr>\n",
              "    <tr>\n",
              "      <th>4</th>\n",
              "      <td>17.0</td>\n",
              "      <td>8</td>\n",
              "      <td>302.0</td>\n",
              "      <td>140.0</td>\n",
              "      <td>3449</td>\n",
              "      <td>10.5</td>\n",
              "      <td>70</td>\n",
              "    </tr>\n",
              "  </tbody>\n",
              "</table>\n",
              "</div>"
            ],
            "text/plain": [
              "    mpg  cylinders  displacement  horsepower  weight  acceleration  model-year\n",
              "0  18.0          8         307.0       130.0    3504          12.0          70\n",
              "1  15.0          8         350.0       165.0    3693          11.5          70\n",
              "2  18.0          8         318.0       150.0    3436          11.0          70\n",
              "3  16.0          8         304.0       150.0    3433          12.0          70\n",
              "4  17.0          8         302.0       140.0    3449          10.5          70"
            ]
          },
          "metadata": {
            "tags": []
          },
          "execution_count": 222
        }
      ]
    },
    {
      "cell_type": "code",
      "metadata": {
        "id": "6TwLT3qQcw9F",
        "colab_type": "code",
        "outputId": "eb965631-0739-46df-d022-157a023b75e0",
        "colab": {
          "base_uri": "https://localhost:8080/",
          "height": 156
        }
      },
      "source": [
        "df.isnull().sum(axis=0)"
      ],
      "execution_count": 0,
      "outputs": [
        {
          "output_type": "execute_result",
          "data": {
            "text/plain": [
              "mpg             0\n",
              "cylinders       0\n",
              "displacement    0\n",
              "horsepower      2\n",
              "weight          0\n",
              "acceleration    0\n",
              "model-year      0\n",
              "dtype: int64"
            ]
          },
          "metadata": {
            "tags": []
          },
          "execution_count": 223
        }
      ]
    },
    {
      "cell_type": "code",
      "metadata": {
        "id": "wZlZKA9qc0sw",
        "colab_type": "code",
        "outputId": "3d13dc41-b7ba-4532-b5e7-bd33008d1032",
        "colab": {
          "base_uri": "https://localhost:8080/",
          "height": 112
        }
      },
      "source": [
        "df[(df.horsepower.isnull())]"
      ],
      "execution_count": 0,
      "outputs": [
        {
          "output_type": "execute_result",
          "data": {
            "text/html": [
              "<div>\n",
              "<style scoped>\n",
              "    .dataframe tbody tr th:only-of-type {\n",
              "        vertical-align: middle;\n",
              "    }\n",
              "\n",
              "    .dataframe tbody tr th {\n",
              "        vertical-align: top;\n",
              "    }\n",
              "\n",
              "    .dataframe thead th {\n",
              "        text-align: right;\n",
              "    }\n",
              "</style>\n",
              "<table border=\"1\" class=\"dataframe\">\n",
              "  <thead>\n",
              "    <tr style=\"text-align: right;\">\n",
              "      <th></th>\n",
              "      <th>mpg</th>\n",
              "      <th>cylinders</th>\n",
              "      <th>displacement</th>\n",
              "      <th>horsepower</th>\n",
              "      <th>weight</th>\n",
              "      <th>acceleration</th>\n",
              "      <th>model-year</th>\n",
              "    </tr>\n",
              "  </thead>\n",
              "  <tbody>\n",
              "    <tr>\n",
              "      <th>32</th>\n",
              "      <td>25.0</td>\n",
              "      <td>4</td>\n",
              "      <td>98.0</td>\n",
              "      <td>NaN</td>\n",
              "      <td>2046</td>\n",
              "      <td>19.0</td>\n",
              "      <td>71</td>\n",
              "    </tr>\n",
              "    <tr>\n",
              "      <th>126</th>\n",
              "      <td>21.0</td>\n",
              "      <td>6</td>\n",
              "      <td>200.0</td>\n",
              "      <td>NaN</td>\n",
              "      <td>2875</td>\n",
              "      <td>17.0</td>\n",
              "      <td>74</td>\n",
              "    </tr>\n",
              "  </tbody>\n",
              "</table>\n",
              "</div>"
            ],
            "text/plain": [
              "      mpg  cylinders  displacement  ...  weight  acceleration  model-year\n",
              "32   25.0          4          98.0  ...    2046          19.0          71\n",
              "126  21.0          6         200.0  ...    2875          17.0          74\n",
              "\n",
              "[2 rows x 7 columns]"
            ]
          },
          "metadata": {
            "tags": []
          },
          "execution_count": 224
        }
      ]
    },
    {
      "cell_type": "code",
      "metadata": {
        "id": "w6m6o6NgroCv",
        "colab_type": "code",
        "outputId": "1a51f3e9-f7e7-43a2-891a-9e9a57f55de7",
        "colab": {
          "base_uri": "https://localhost:8080/",
          "height": 225
        }
      },
      "source": [
        "df['acceleration'].value_counts()"
      ],
      "execution_count": 0,
      "outputs": [
        {
          "output_type": "execute_result",
          "data": {
            "text/plain": [
              "14.5    23\n",
              "15.5    21\n",
              "16.0    16\n",
              "14.0    16\n",
              "13.5    15\n",
              "        ..\n",
              "17.1     1\n",
              "24.6     1\n",
              "23.5     1\n",
              "16.1     1\n",
              "15.6     1\n",
              "Name: acceleration, Length: 95, dtype: int64"
            ]
          },
          "metadata": {
            "tags": []
          },
          "execution_count": 225
        }
      ]
    },
    {
      "cell_type": "code",
      "metadata": {
        "id": "P8V1F6Y9c_lx",
        "colab_type": "code",
        "colab": {}
      },
      "source": [
        "df.dropna(inplace=True)"
      ],
      "execution_count": 0,
      "outputs": []
    },
    {
      "cell_type": "code",
      "metadata": {
        "id": "ZHDL6NnOdPww",
        "colab_type": "code",
        "outputId": "47de2a06-5011-44f5-d70a-d812d5589079",
        "colab": {
          "base_uri": "https://localhost:8080/",
          "height": 225
        }
      },
      "source": [
        "df['mpg'].value_counts().tail(74)"
      ],
      "execution_count": 0,
      "outputs": [
        {
          "output_type": "execute_result",
          "data": {
            "text/plain": [
              "36.1    2\n",
              "26.4    1\n",
              "44.3    1\n",
              "40.8    1\n",
              "27.9    1\n",
              "       ..\n",
              "34.2    1\n",
              "38.1    1\n",
              "37.2    1\n",
              "32.1    1\n",
              "32.7    1\n",
              "Name: mpg, Length: 74, dtype: int64"
            ]
          },
          "metadata": {
            "tags": []
          },
          "execution_count": 227
        }
      ]
    },
    {
      "cell_type": "code",
      "metadata": {
        "id": "3LRiU0Tlnt3d",
        "colab_type": "code",
        "colab": {}
      },
      "source": [
        "df = df.groupby('mpg').filter(lambda x : len(x) >3)"
      ],
      "execution_count": 0,
      "outputs": []
    },
    {
      "cell_type": "code",
      "metadata": {
        "id": "QvlXaUjweGrP",
        "colab_type": "code",
        "outputId": "ddb42d3e-1ef4-46d1-be07-be5f0d79e5d0",
        "colab": {
          "base_uri": "https://localhost:8080/",
          "height": 585
        }
      },
      "source": [
        "fig, axes = plt.subplots(nrows=7, ncols=2, figsize=(8, 8))\n",
        "for i, c in enumerate(df.columns):\n",
        "    # print(c)\n",
        "    if c == 'mpg':\n",
        "        continue\n",
        "    sns.distplot(df[c], ax=axes[i][0])\n",
        "    sns.boxplot(x=c, data=df, ax=axes[i][1])\n",
        "plt.tight_layout()"
      ],
      "execution_count": 244,
      "outputs": [
        {
          "output_type": "display_data",
          "data": {
            "image/png": "[encoded data removed]",
            "text/plain": [
              "<Figure size 576x576 with 14 Axes>"
            ]
          },
          "metadata": {
            "tags": []
          }
        }
      ]
    },
    {
      "cell_type": "code",
      "metadata": {
        "id": "fB2XX50XfNph",
        "colab_type": "code",
        "outputId": "11cc40be-6ef4-4abe-8f83-f662b706da2f",
        "colab": {
          "base_uri": "https://localhost:8080/",
          "height": 596
        }
      },
      "source": [
        "plt.figure(figsize=(12,10))\n",
        "cor = df.corr(method='spearman')\n",
        "sns.heatmap(cor, annot=True, cmap=plt.cm.Reds)\n",
        "plt.show()"
      ],
      "execution_count": 245,
      "outputs": [
        {
          "output_type": "display_data",
          "data": {
            "image/png": "[encoded data removed]",
            "text/plain": [
              "<Figure size 864x720 with 2 Axes>"
            ]
          },
          "metadata": {
            "tags": []
          }
        }
      ]
    },
    {
      "cell_type": "code",
      "metadata": {
        "id": "JkSQd8YAfpzK",
        "colab_type": "code",
        "outputId": "65f47129-05da-429b-fb9d-4eb5a73a674a",
        "colab": {
          "base_uri": "https://localhost:8080/",
          "height": 139
        }
      },
      "source": [
        "#Correlation with output variable\n",
        "cor_target = abs(cor[\"mpg\"])#Selecting highly correlated features\n",
        "relevant_features = cor_target[cor_target>0.5]\n",
        "relevant_features"
      ],
      "execution_count": 246,
      "outputs": [
        {
          "output_type": "execute_result",
          "data": {
            "text/plain": [
              "mpg             1.000000\n",
              "cylinders       0.866943\n",
              "displacement    0.875422\n",
              "horsepower      0.860183\n",
              "weight          0.890377\n",
              "acceleration    0.535479\n",
              "Name: mpg, dtype: float64"
            ]
          },
          "metadata": {
            "tags": []
          },
          "execution_count": 246
        }
      ]
    },
    {
      "cell_type": "code",
      "metadata": {
        "id": "d5dN4leIgIv4",
        "colab_type": "code",
        "outputId": "790e808f-2edd-47df-9dbf-674f19044ead",
        "colab": {
          "base_uri": "https://localhost:8080/",
          "height": 52
        }
      },
      "source": [
        "from sklearn.model_selection import train_test_split\n",
        "\n",
        "train_df, test_df = train_test_split(\n",
        "    df, \n",
        "    test_size=0.2, \n",
        "    stratify=df['mpg'],\n",
        "    random_state=42)\n",
        "\n",
        "print(train_df.shape)\n",
        "print(test_df.shape)"
      ],
      "execution_count": 247,
      "outputs": [
        {
          "output_type": "stream",
          "text": [
            "(204, 7)\n",
            "(52, 7)\n"
          ],
          "name": "stdout"
        }
      ]
    },
    {
      "cell_type": "code",
      "metadata": {
        "id": "lnKfMqBaocF0",
        "colab_type": "code",
        "outputId": "5905960e-a548-4eb1-d080-55a68a3cfea1",
        "colab": {
          "base_uri": "https://localhost:8080/",
          "height": 503
        }
      },
      "source": [
        "train_df['mpg'].value_counts()"
      ],
      "execution_count": 248,
      "outputs": [
        {
          "output_type": "execute_result",
          "data": {
            "text/plain": [
              "13.0    16\n",
              "14.0    15\n",
              "18.0    13\n",
              "15.0    13\n",
              "26.0    11\n",
              "16.0    10\n",
              "19.0     9\n",
              "24.0     9\n",
              "22.0     8\n",
              "25.0     8\n",
              "23.0     8\n",
              "28.0     8\n",
              "27.0     7\n",
              "20.0     7\n",
              "31.0     6\n",
              "17.0     6\n",
              "21.0     6\n",
              "29.0     6\n",
              "30.0     6\n",
              "36.0     5\n",
              "12.0     5\n",
              "32.0     5\n",
              "15.5     4\n",
              "17.5     4\n",
              "38.0     3\n",
              "11.0     3\n",
              "20.2     3\n",
              "Name: mpg, dtype: int64"
            ]
          },
          "metadata": {
            "tags": []
          },
          "execution_count": 248
        }
      ]
    },
    {
      "cell_type": "code",
      "metadata": {
        "id": "mLIazhNBpSWr",
        "colab_type": "code",
        "outputId": "d8952f3c-0a6c-4fe0-d4af-6f95b414fd32",
        "colab": {
          "base_uri": "https://localhost:8080/",
          "height": 503
        }
      },
      "source": [
        "test_df['mpg'].value_counts()"
      ],
      "execution_count": 249,
      "outputs": [
        {
          "output_type": "execute_result",
          "data": {
            "text/plain": [
              "13.0    4\n",
              "14.0    4\n",
              "18.0    4\n",
              "19.0    3\n",
              "16.0    3\n",
              "26.0    3\n",
              "15.0    3\n",
              "24.0    2\n",
              "20.0    2\n",
              "23.0    2\n",
              "28.0    2\n",
              "29.0    2\n",
              "27.0    2\n",
              "25.0    2\n",
              "22.0    2\n",
              "21.0    1\n",
              "17.5    1\n",
              "30.0    1\n",
              "15.5    1\n",
              "12.0    1\n",
              "11.0    1\n",
              "31.0    1\n",
              "38.0    1\n",
              "17.0    1\n",
              "36.0    1\n",
              "32.0    1\n",
              "20.2    1\n",
              "Name: mpg, dtype: int64"
            ]
          },
          "metadata": {
            "tags": []
          },
          "execution_count": 249
        }
      ]
    },
    {
      "cell_type": "code",
      "metadata": {
        "id": "NUBx75P5qANy",
        "colab_type": "code",
        "colab": {}
      },
      "source": [
        "features = ['cylinders', 'displacement', 'horsepower', 'weight']"
      ],
      "execution_count": 0,
      "outputs": []
    },
    {
      "cell_type": "code",
      "metadata": {
        "id": "K2zj8kz5qIks",
        "colab_type": "code",
        "colab": {}
      },
      "source": [
        "from sklearn.preprocessing import StandardScaler\n",
        "\n",
        "scaler = StandardScaler()\n",
        "scaled_train_df = pd.DataFrame(\n",
        "    scaler.fit_transform(train_df[features]), \n",
        "    index=train_df.index,\n",
        "    columns=features)\n",
        "scaled_train_df['mpg'] = train_df['mpg']"
      ],
      "execution_count": 0,
      "outputs": []
    },
    {
      "cell_type": "code",
      "metadata": {
        "id": "MSZwLFSoqMdH",
        "colab_type": "code",
        "colab": {}
      },
      "source": [
        "# fig, axes = plt.subplots(nrows=7, ncols=2, figsize=(8, 8))\n",
        "# for i, c in enumerate(train_df.columns):\n",
        "#     if c == 'cylinders':\n",
        "#         continue\n",
        "#     sns.violinplot(y='cylinders', x=c, data=train_df, ax=axes[i][0])\n",
        "#     sns.violinplot(y='cylinders', x=c, data=scaled_train_df, ax=axes[i][1])\n",
        "# plt.tight_layout()\n"
      ],
      "execution_count": 0,
      "outputs": []
    },
    {
      "cell_type": "code",
      "metadata": {
        "id": "MXhYgWDhryHJ",
        "colab_type": "code",
        "colab": {}
      },
      "source": [
        "from sklearn.linear_model import LinearRegression\n",
        "\n",
        "clf = LinearRegression()\n",
        "clf = clf.fit(scaled_train_df[features], scaled_train_df['mpg'])"
      ],
      "execution_count": 0,
      "outputs": []
    },
    {
      "cell_type": "code",
      "metadata": {
        "id": "1wxIkaNyvIIM",
        "colab_type": "code",
        "colab": {}
      },
      "source": [
        "from sklearn.metrics import mean_squared_error"
      ],
      "execution_count": 0,
      "outputs": []
    },
    {
      "cell_type": "code",
      "metadata": {
        "id": "as1EqT2lr2Mg",
        "colab_type": "code",
        "outputId": "dc095d39-5902-47ae-bb78-51223e7dd86c",
        "colab": {
          "base_uri": "https://localhost:8080/",
          "height": 34
        }
      },
      "source": [
        "from sklearn.metrics import accuracy_score\n",
        "\n",
        "y_pred_train = clf.predict(scaled_train_df[features])\n",
        "mean_squared_error(train_df['mpg'], y_pred_train)\n",
        "# accuracy_score(train_df['cylinders'], y_pred_train)"
      ],
      "execution_count": 263,
      "outputs": [
        {
          "output_type": "execute_result",
          "data": {
            "text/plain": [
              "11.954714546715609"
            ]
          },
          "metadata": {
            "tags": []
          },
          "execution_count": 263
        }
      ]
    },
    {
      "cell_type": "code",
      "metadata": {
        "id": "G2QIFsuTr5BB",
        "colab_type": "code",
        "outputId": "31fff02b-e4d1-44d9-a7de-ff71eb8be3fc",
        "colab": {
          "base_uri": "https://localhost:8080/",
          "height": 34
        }
      },
      "source": [
        "scaled_test_df = pd.DataFrame(\n",
        "    scaler.transform(test_df[features]), \n",
        "    index=test_df.index,\n",
        "    columns=features)\n",
        "\n",
        "y_pred_test = clf.predict(scaled_test_df[features])\n",
        "mean_squared_error(train_df['cylinders'], y_pred_train)\n",
        "# accuracy_score(test_df['cylinders'], y_pred_test)"
      ],
      "execution_count": 264,
      "outputs": [
        {
          "output_type": "execute_result",
          "data": {
            "text/plain": [
              "287.98705015916676"
            ]
          },
          "metadata": {
            "tags": []
          },
          "execution_count": 264
        }
      ]
    }
  ]
}