{
  "nbformat": 4,
  "nbformat_minor": 0,
  "metadata": {
    "colab": {
      "name": "WhereAreJackAndRose.ipynb",
      "provenance": [],
      "collapsed_sections": []
    },
    "kernelspec": {
      "name": "python3",
      "display_name": "Python 3"
    }
  },
  "cells": [
    {
      "cell_type": "code",
      "metadata": {
        "id": "wnDaFSVWZMeB",
        "colab_type": "code",
        "colab": {
          "base_uri": "https://localhost:8080/",
          "height": 228
        },
        "outputId": "bb9c5210-d03a-46f1-9af1-8efdc908edd0"
      },
      "source": [
        "!wget https://gist.githubusercontent.com/michhar/2dfd2de0d4f8727f873422c5d959fff5/raw/ff414a1bcfcba32481e4d4e8db578e55872a2ca1/titanic.csv"
      ],
      "execution_count": 335,
      "outputs": [
        {
          "output_type": "stream",
          "text": [
            "--2020-02-19 12:33:10--  https://gist.githubusercontent.com/michhar/2dfd2de0d4f8727f873422c5d959fff5/raw/ff414a1bcfcba32481e4d4e8db578e55872a2ca1/titanic.csv\n",
            "Resolving gist.githubusercontent.com (gist.githubusercontent.com)... 151.101.0.133, 151.101.64.133, 151.101.128.133, ...\n",
            "Connecting to gist.githubusercontent.com (gist.githubusercontent.com)|151.101.0.133|:443... connected.\n",
            "HTTP request sent, awaiting response... 200 OK\n",
            "Length: 10305 (10K) [text/plain]\n",
            "Saving to: ‘titanic.csv.6’\n",
            "\n",
            "\rtitanic.csv.6         0%[                    ]       0  --.-KB/s               \rtitanic.csv.6       100%[===================>]  10.06K  --.-KB/s    in 0s      \n",
            "\n",
            "2020-02-19 12:33:10 (150 MB/s) - ‘titanic.csv.6’ saved [10305/10305]\n",
            "\n"
          ],
          "name": "stdout"
        }
      ]
    },
    {
      "cell_type": "markdown",
      "metadata": {
        "id": "q_Eo5r86mY9R",
        "colab_type": "text"
      },
      "source": [
        "**VARIABLE DESCRIPTIONS**</br>\n",
        "**Pclass** Passenger Class  (1 = 1st; 2 = 2nd; 3 = 3rd)</br>\n",
        "**survival**    Survival  (0 = No; 1 = Yes)</br>\n",
        "**name** Name</br>\n",
        "**sex** Sex</br>\n",
        "**age** Age</br>\n",
        "**sibsp** Number of Siblings/Spouses Aboard</br>\n",
        "**parch** Number of Parents/Children Aboard</br>\n",
        "**ticket** Ticket Number</br>\n",
        "**fare** Passenger Fare (British pound)</br>\n",
        "**cabin** Cabin </br>\n",
        "**embarked** Port of Embarkation (C = Cherbourg; Q = Queenstown; S = Southampton)</br>\n",
        "* * *\n",
        "http://campus.lakeforest.edu/frank/FILES/MLFfiles/Bio150/Titanic/TitanicMETA.pdf\n"
      ]
    },
    {
      "cell_type": "code",
      "metadata": {
        "id": "8zz5L1cVU1W4",
        "colab_type": "code",
        "colab": {
          "base_uri": "https://localhost:8080/",
          "height": 258
        },
        "outputId": "e3bfc613-7f2d-471f-a0e3-d3348ac7e3a6"
      },
      "source": [
        "import pandas as pd\n",
        "import matplotlib.pyplot as plt\n",
        "import seaborn as sns\n",
        "\n",
        "df = pd.read_csv('titanic.csv',sep=\"\\t\")\n",
        "df.head()"
      ],
      "execution_count": 336,
      "outputs": [
        {
          "output_type": "execute_result",
          "data": {
            "text/html": [
              "<div>\n",
              "<style scoped>\n",
              "    .dataframe tbody tr th:only-of-type {\n",
              "        vertical-align: middle;\n",
              "    }\n",
              "\n",
              "    .dataframe tbody tr th {\n",
              "        vertical-align: top;\n",
              "    }\n",
              "\n",
              "    .dataframe thead th {\n",
              "        text-align: right;\n",
              "    }\n",
              "</style>\n",
              "<table border=\"1\" class=\"dataframe\">\n",
              "  <thead>\n",
              "    <tr style=\"text-align: right;\">\n",
              "      <th></th>\n",
              "      <th>PassengerId</th>\n",
              "      <th>Survived</th>\n",
              "      <th>Pclass</th>\n",
              "      <th>Name</th>\n",
              "      <th>Sex</th>\n",
              "      <th>Age</th>\n",
              "      <th>SibSp</th>\n",
              "      <th>Parch</th>\n",
              "      <th>Ticket</th>\n",
              "      <th>Fare</th>\n",
              "      <th>Cabin</th>\n",
              "      <th>Embarked</th>\n",
              "    </tr>\n",
              "  </thead>\n",
              "  <tbody>\n",
              "    <tr>\n",
              "      <th>0</th>\n",
              "      <td>1</td>\n",
              "      <td>0</td>\n",
              "      <td>3</td>\n",
              "      <td>Braund, Mr. Owen Harris</td>\n",
              "      <td>male</td>\n",
              "      <td>22.0</td>\n",
              "      <td>1</td>\n",
              "      <td>0</td>\n",
              "      <td>A/5 21171</td>\n",
              "      <td>7.2500</td>\n",
              "      <td>NaN</td>\n",
              "      <td>S</td>\n",
              "    </tr>\n",
              "    <tr>\n",
              "      <th>1</th>\n",
              "      <td>2</td>\n",
              "      <td>1</td>\n",
              "      <td>1</td>\n",
              "      <td>Cumings, Mrs. John Bradley (Florence Briggs Th...</td>\n",
              "      <td>female</td>\n",
              "      <td>38.0</td>\n",
              "      <td>1</td>\n",
              "      <td>0</td>\n",
              "      <td>PC 17599</td>\n",
              "      <td>71.2833</td>\n",
              "      <td>C85</td>\n",
              "      <td>C</td>\n",
              "    </tr>\n",
              "    <tr>\n",
              "      <th>2</th>\n",
              "      <td>3</td>\n",
              "      <td>1</td>\n",
              "      <td>3</td>\n",
              "      <td>Heikkinen, Miss. Laina</td>\n",
              "      <td>female</td>\n",
              "      <td>26.0</td>\n",
              "      <td>0</td>\n",
              "      <td>0</td>\n",
              "      <td>STON/O2. 3101282</td>\n",
              "      <td>7.9250</td>\n",
              "      <td>NaN</td>\n",
              "      <td>S</td>\n",
              "    </tr>\n",
              "    <tr>\n",
              "      <th>3</th>\n",
              "      <td>4</td>\n",
              "      <td>1</td>\n",
              "      <td>1</td>\n",
              "      <td>Futrelle, Mrs. Jacques Heath (Lily May Peel)</td>\n",
              "      <td>female</td>\n",
              "      <td>35.0</td>\n",
              "      <td>1</td>\n",
              "      <td>0</td>\n",
              "      <td>113803</td>\n",
              "      <td>53.1000</td>\n",
              "      <td>C123</td>\n",
              "      <td>S</td>\n",
              "    </tr>\n",
              "    <tr>\n",
              "      <th>4</th>\n",
              "      <td>5</td>\n",
              "      <td>0</td>\n",
              "      <td>3</td>\n",
              "      <td>Allen, Mr. William Henry</td>\n",
              "      <td>male</td>\n",
              "      <td>35.0</td>\n",
              "      <td>0</td>\n",
              "      <td>0</td>\n",
              "      <td>373450</td>\n",
              "      <td>8.0500</td>\n",
              "      <td>NaN</td>\n",
              "      <td>S</td>\n",
              "    </tr>\n",
              "  </tbody>\n",
              "</table>\n",
              "</div>"
            ],
            "text/plain": [
              "   PassengerId  Survived  Pclass  ...     Fare Cabin  Embarked\n",
              "0            1         0       3  ...   7.2500   NaN         S\n",
              "1            2         1       1  ...  71.2833   C85         C\n",
              "2            3         1       3  ...   7.9250   NaN         S\n",
              "3            4         1       1  ...  53.1000  C123         S\n",
              "4            5         0       3  ...   8.0500   NaN         S\n",
              "\n",
              "[5 rows x 12 columns]"
            ]
          },
          "metadata": {
            "tags": []
          },
          "execution_count": 336
        }
      ]
    },
    {
      "cell_type": "code",
      "metadata": {
        "id": "yW3S1oD1zzV4",
        "colab_type": "code",
        "colab": {}
      },
      "source": [
        "del df['Name']\n",
        "del df['Ticket']\n",
        "del df['Cabin']\n",
        "del df['PassengerId']"
      ],
      "execution_count": 0,
      "outputs": []
    },
    {
      "cell_type": "code",
      "metadata": {
        "id": "S_i3mlIgwNDv",
        "colab_type": "code",
        "colab": {}
      },
      "source": [
        "# cleanup= {\"Embarked\": {\"C\":1, \"Q\":2, \"S\":3},\n",
        "#           \"Sex\": {\"male\":0, \"female\":1}}"
      ],
      "execution_count": 0,
      "outputs": []
    },
    {
      "cell_type": "code",
      "metadata": {
        "id": "ETPHSIiJwbtT",
        "colab_type": "code",
        "colab": {}
      },
      "source": [
        "# df.replace(cleanup, inplace=True)"
      ],
      "execution_count": 0,
      "outputs": []
    },
    {
      "cell_type": "code",
      "metadata": {
        "id": "rP9JB-vBbd-Z",
        "colab_type": "code",
        "colab": {}
      },
      "source": [
        "mean_age = df['Age'].mean()"
      ],
      "execution_count": 0,
      "outputs": []
    },
    {
      "cell_type": "code",
      "metadata": {
        "id": "XVbnqyCIZ6_B",
        "colab_type": "code",
        "colab": {
          "base_uri": "https://localhost:8080/",
          "height": 173
        },
        "outputId": "51e9d5bc-32a5-46a9-ed65-9a821ebd1300"
      },
      "source": [
        "df.isnull().sum(axis=0)"
      ],
      "execution_count": 341,
      "outputs": [
        {
          "output_type": "execute_result",
          "data": {
            "text/plain": [
              "Survived     0\n",
              "Pclass       0\n",
              "Sex          0\n",
              "Age         30\n",
              "SibSp        0\n",
              "Parch        0\n",
              "Fare         0\n",
              "Embarked     1\n",
              "dtype: int64"
            ]
          },
          "metadata": {
            "tags": []
          },
          "execution_count": 341
        }
      ]
    },
    {
      "cell_type": "code",
      "metadata": {
        "id": "8TOGWlAVeRFy",
        "colab_type": "code",
        "colab": {}
      },
      "source": [
        "df['Age'].fillna(mean_age,inplace=True)"
      ],
      "execution_count": 0,
      "outputs": []
    },
    {
      "cell_type": "code",
      "metadata": {
        "id": "0ShTTo6gbh_w",
        "colab_type": "code",
        "colab": {}
      },
      "source": [
        "# df.dropna(inplace=True)"
      ],
      "execution_count": 0,
      "outputs": []
    },
    {
      "cell_type": "code",
      "metadata": {
        "id": "etf4-sEXbhzk",
        "colab_type": "code",
        "colab": {
          "base_uri": "https://localhost:8080/",
          "height": 34
        },
        "outputId": "ba2eabc0-6318-41bf-c592-a5dcd1f54eea"
      },
      "source": [
        "df['Age'].isnull().any()"
      ],
      "execution_count": 344,
      "outputs": [
        {
          "output_type": "execute_result",
          "data": {
            "text/plain": [
              "False"
            ]
          },
          "metadata": {
            "tags": []
          },
          "execution_count": 344
        }
      ]
    },
    {
      "cell_type": "code",
      "metadata": {
        "id": "J4s-Hw0x2Ug4",
        "colab_type": "code",
        "colab": {
          "base_uri": "https://localhost:8080/",
          "height": 1000
        },
        "outputId": "2ce0a399-d559-465d-8e88-0a9f6fe71f06"
      },
      "source": [
        "df['Age'].value_counts(dropna=False)"
      ],
      "execution_count": 345,
      "outputs": [
        {
          "output_type": "execute_result",
          "data": {
            "text/plain": [
              "28.141508    30\n",
              "21.000000     8\n",
              "29.000000     6\n",
              "19.000000     6\n",
              "22.000000     6\n",
              "28.000000     5\n",
              "24.000000     5\n",
              "38.000000     4\n",
              "26.000000     4\n",
              "20.000000     4\n",
              "2.000000      3\n",
              "16.000000     3\n",
              "17.000000     3\n",
              "34.000000     3\n",
              "35.000000     3\n",
              "18.000000     3\n",
              "14.000000     3\n",
              "23.000000     3\n",
              "33.000000     3\n",
              "27.000000     3\n",
              "32.000000     2\n",
              "42.000000     2\n",
              "40.000000     2\n",
              "4.000000      2\n",
              "51.000000     2\n",
              "45.000000     2\n",
              "25.000000     2\n",
              "54.000000     2\n",
              "37.000000     2\n",
              "47.000000     2\n",
              "32.500000     2\n",
              "58.000000     1\n",
              "39.000000     1\n",
              "55.500000     1\n",
              "55.000000     1\n",
              "31.000000     1\n",
              "15.000000     1\n",
              "9.000000      1\n",
              "3.000000      1\n",
              "8.000000      1\n",
              "66.000000     1\n",
              "70.500000     1\n",
              "14.500000     1\n",
              "71.000000     1\n",
              "59.000000     1\n",
              "46.000000     1\n",
              "30.000000     1\n",
              "11.000000     1\n",
              "5.000000      1\n",
              "28.500000     1\n",
              "65.000000     1\n",
              "40.500000     1\n",
              "49.000000     1\n",
              "7.000000      1\n",
              "12.000000     1\n",
              "36.500000     1\n",
              "0.830000      1\n",
              "Name: Age, dtype: int64"
            ]
          },
          "metadata": {
            "tags": []
          },
          "execution_count": 345
        }
      ]
    },
    {
      "cell_type": "code",
      "metadata": {
        "id": "bJSt70YugR1J",
        "colab_type": "code",
        "colab": {
          "base_uri": "https://localhost:8080/",
          "height": 104
        },
        "outputId": "1b54d9e7-dd01-44ab-9820-ae3b344dfad0"
      },
      "source": [
        "df['Embarked'].value_counts(dropna=False)"
      ],
      "execution_count": 346,
      "outputs": [
        {
          "output_type": "execute_result",
          "data": {
            "text/plain": [
              "S      110\n",
              "C       32\n",
              "Q       13\n",
              "NaN      1\n",
              "Name: Embarked, dtype: int64"
            ]
          },
          "metadata": {
            "tags": []
          },
          "execution_count": 346
        }
      ]
    },
    {
      "cell_type": "code",
      "metadata": {
        "id": "IL5IIzY2hznf",
        "colab_type": "code",
        "colab": {}
      },
      "source": [
        "highest_occur_embarked = df['Embarked'].value_counts().head(1).index[0]"
      ],
      "execution_count": 0,
      "outputs": []
    },
    {
      "cell_type": "code",
      "metadata": {
        "id": "2lil-Pl_kw1O",
        "colab_type": "code",
        "colab": {}
      },
      "source": [
        "df['Embarked'].fillna(highest_occur_embarked, inplace=True)"
      ],
      "execution_count": 0,
      "outputs": []
    },
    {
      "cell_type": "code",
      "metadata": {
        "id": "aZB9hb2jk_kk",
        "colab_type": "code",
        "colab": {}
      },
      "source": [
        "# df['Cabin'].fillna(\"unidentified\", inplace=True)"
      ],
      "execution_count": 0,
      "outputs": []
    },
    {
      "cell_type": "code",
      "metadata": {
        "id": "fLB-9hv5mA8f",
        "colab_type": "code",
        "colab": {
          "base_uri": "https://localhost:8080/",
          "height": 121
        },
        "outputId": "6e290c3f-e9a6-4b91-e80c-76c821c7e384"
      },
      "source": [
        "df['Parch'].value_counts(dropna=False)"
      ],
      "execution_count": 350,
      "outputs": [
        {
          "output_type": "execute_result",
          "data": {
            "text/plain": [
              "0    121\n",
              "2     17\n",
              "1     15\n",
              "5      2\n",
              "3      1\n",
              "Name: Parch, dtype: int64"
            ]
          },
          "metadata": {
            "tags": []
          },
          "execution_count": 350
        }
      ]
    },
    {
      "cell_type": "code",
      "metadata": {
        "id": "LF7CMKIv4yJz",
        "colab_type": "code",
        "colab": {
          "base_uri": "https://localhost:8080/",
          "height": 225
        },
        "outputId": "1876f476-295f-4440-f083-4a18db004c54"
      },
      "source": [
        "# del df['Age']\n",
        "# del df['Embarked']\n",
        "from sklearn.preprocessing import LabelEncoder, KBinsDiscretizer\n",
        "enc = LabelEncoder()\n",
        "df['Sex'] = enc.fit_transform(df['Sex'])\n",
        "df['Sex']"
      ],
      "execution_count": 351,
      "outputs": [
        {
          "output_type": "execute_result",
          "data": {
            "text/plain": [
              "0      1\n",
              "1      0\n",
              "2      0\n",
              "3      0\n",
              "4      1\n",
              "      ..\n",
              "151    0\n",
              "152    1\n",
              "153    1\n",
              "154    1\n",
              "155    1\n",
              "Name: Sex, Length: 156, dtype: int64"
            ]
          },
          "metadata": {
            "tags": []
          },
          "execution_count": 351
        }
      ]
    },
    {
      "cell_type": "code",
      "metadata": {
        "id": "lZu0I815OMGy",
        "colab_type": "code",
        "colab": {
          "base_uri": "https://localhost:8080/",
          "height": 225
        },
        "outputId": "b65f5ab4-0ebe-43fd-c3b6-b736b53e46c5"
      },
      "source": [
        "df['Embarked'] = enc.fit_transform(df['Embarked'])\n",
        "df['Embarked']"
      ],
      "execution_count": 352,
      "outputs": [
        {
          "output_type": "execute_result",
          "data": {
            "text/plain": [
              "0      2\n",
              "1      0\n",
              "2      2\n",
              "3      2\n",
              "4      2\n",
              "      ..\n",
              "151    2\n",
              "152    2\n",
              "153    2\n",
              "154    2\n",
              "155    0\n",
              "Name: Embarked, Length: 156, dtype: int64"
            ]
          },
          "metadata": {
            "tags": []
          },
          "execution_count": 352
        }
      ]
    },
    {
      "cell_type": "code",
      "metadata": {
        "id": "m81xYVt21i_1",
        "colab_type": "code",
        "colab": {
          "base_uri": "https://localhost:8080/",
          "height": 34
        },
        "outputId": "c955677a-2835-4eda-e3bf-d7b364af5576"
      },
      "source": [
        "print([{key,val} for key,val in enumerate(df.columns)])"
      ],
      "execution_count": 353,
      "outputs": [
        {
          "output_type": "stream",
          "text": [
            "[{0, 'Survived'}, {1, 'Pclass'}, {2, 'Sex'}, {3, 'Age'}, {4, 'SibSp'}, {5, 'Parch'}, {6, 'Fare'}, {'Embarked', 7}]\n"
          ],
          "name": "stdout"
        }
      ]
    },
    {
      "cell_type": "code",
      "metadata": {
        "id": "4q1wsgAwU6Gt",
        "colab_type": "code",
        "colab": {
          "base_uri": "https://localhost:8080/",
          "height": 34
        },
        "outputId": "34c051b8-b673-45c7-f700-aa6db29dad6b"
      },
      "source": [
        "df['Survived'].dtype"
      ],
      "execution_count": 354,
      "outputs": [
        {
          "output_type": "execute_result",
          "data": {
            "text/plain": [
              "dtype('int64')"
            ]
          },
          "metadata": {
            "tags": []
          },
          "execution_count": 354
        }
      ]
    },
    {
      "cell_type": "code",
      "metadata": {
        "id": "FoUhIxJjrzQY",
        "colab_type": "code",
        "colab": {
          "base_uri": "https://localhost:8080/",
          "height": 585
        },
        "outputId": "6ca3b236-a156-4d3f-b953-6215acd7bff5"
      },
      "source": [
        "fig, axes = plt.subplots(nrows=8, ncols=2, figsize=(8, 8))\n",
        "for i, c in enumerate(df.columns):\n",
        "    if c == 'Survived':\n",
        "        continue\n",
        "    sns.distplot(df[c], ax=axes[i][0])\n",
        "    sns.boxplot(x=c, data=df, ax=axes[i][1])\n",
        "plt.tight_layout()"
      ],
      "execution_count": 355,
      "outputs": [
        {
          "output_type": "display_data",
          "data": {
            "image/png": "[encoded data removed]",
            "text/plain": [
              "<Figure size 576x576 with 16 Axes>"
            ]
          },
          "metadata": {
            "tags": []
          }
        }
      ]
    },
    {
      "cell_type": "code",
      "metadata": {
        "id": "j-ekeuykl5DB",
        "colab_type": "code",
        "colab": {
          "base_uri": "https://localhost:8080/",
          "height": 300
        },
        "outputId": "df378070-c0c5-4814-b1d5-37367c759798"
      },
      "source": [
        "df.corr()"
      ],
      "execution_count": 356,
      "outputs": [
        {
          "output_type": "execute_result",
          "data": {
            "text/html": [
              "<div>\n",
              "<style scoped>\n",
              "    .dataframe tbody tr th:only-of-type {\n",
              "        vertical-align: middle;\n",
              "    }\n",
              "\n",
              "    .dataframe tbody tr th {\n",
              "        vertical-align: top;\n",
              "    }\n",
              "\n",
              "    .dataframe thead th {\n",
              "        text-align: right;\n",
              "    }\n",
              "</style>\n",
              "<table border=\"1\" class=\"dataframe\">\n",
              "  <thead>\n",
              "    <tr style=\"text-align: right;\">\n",
              "      <th></th>\n",
              "      <th>Survived</th>\n",
              "      <th>Pclass</th>\n",
              "      <th>Sex</th>\n",
              "      <th>Age</th>\n",
              "      <th>SibSp</th>\n",
              "      <th>Parch</th>\n",
              "      <th>Fare</th>\n",
              "      <th>Embarked</th>\n",
              "    </tr>\n",
              "  </thead>\n",
              "  <tbody>\n",
              "    <tr>\n",
              "      <th>Survived</th>\n",
              "      <td>1.000000</td>\n",
              "      <td>-0.116340</td>\n",
              "      <td>-0.579062</td>\n",
              "      <td>-0.106578</td>\n",
              "      <td>-0.066943</td>\n",
              "      <td>0.039435</td>\n",
              "      <td>0.029343</td>\n",
              "      <td>-0.072072</td>\n",
              "    </tr>\n",
              "    <tr>\n",
              "      <th>Pclass</th>\n",
              "      <td>-0.116340</td>\n",
              "      <td>1.000000</td>\n",
              "      <td>-0.038892</td>\n",
              "      <td>-0.332233</td>\n",
              "      <td>0.087420</td>\n",
              "      <td>0.016491</td>\n",
              "      <td>-0.607256</td>\n",
              "      <td>0.115187</td>\n",
              "    </tr>\n",
              "    <tr>\n",
              "      <th>Sex</th>\n",
              "      <td>-0.579062</td>\n",
              "      <td>-0.038892</td>\n",
              "      <td>1.000000</td>\n",
              "      <td>0.176367</td>\n",
              "      <td>-0.184527</td>\n",
              "      <td>-0.103897</td>\n",
              "      <td>-0.006689</td>\n",
              "      <td>0.022350</td>\n",
              "    </tr>\n",
              "    <tr>\n",
              "      <th>Age</th>\n",
              "      <td>-0.106578</td>\n",
              "      <td>-0.332233</td>\n",
              "      <td>0.176367</td>\n",
              "      <td>1.000000</td>\n",
              "      <td>-0.378670</td>\n",
              "      <td>-0.207651</td>\n",
              "      <td>0.023235</td>\n",
              "      <td>-0.031098</td>\n",
              "    </tr>\n",
              "    <tr>\n",
              "      <th>SibSp</th>\n",
              "      <td>-0.066943</td>\n",
              "      <td>0.087420</td>\n",
              "      <td>-0.184527</td>\n",
              "      <td>-0.378670</td>\n",
              "      <td>1.000000</td>\n",
              "      <td>0.399040</td>\n",
              "      <td>0.271997</td>\n",
              "      <td>0.085307</td>\n",
              "    </tr>\n",
              "    <tr>\n",
              "      <th>Parch</th>\n",
              "      <td>0.039435</td>\n",
              "      <td>0.016491</td>\n",
              "      <td>-0.103897</td>\n",
              "      <td>-0.207651</td>\n",
              "      <td>0.399040</td>\n",
              "      <td>1.000000</td>\n",
              "      <td>0.254822</td>\n",
              "      <td>0.087342</td>\n",
              "    </tr>\n",
              "    <tr>\n",
              "      <th>Fare</th>\n",
              "      <td>0.029343</td>\n",
              "      <td>-0.607256</td>\n",
              "      <td>-0.006689</td>\n",
              "      <td>0.023235</td>\n",
              "      <td>0.271997</td>\n",
              "      <td>0.254822</td>\n",
              "      <td>1.000000</td>\n",
              "      <td>-0.112638</td>\n",
              "    </tr>\n",
              "    <tr>\n",
              "      <th>Embarked</th>\n",
              "      <td>-0.072072</td>\n",
              "      <td>0.115187</td>\n",
              "      <td>0.022350</td>\n",
              "      <td>-0.031098</td>\n",
              "      <td>0.085307</td>\n",
              "      <td>0.087342</td>\n",
              "      <td>-0.112638</td>\n",
              "      <td>1.000000</td>\n",
              "    </tr>\n",
              "  </tbody>\n",
              "</table>\n",
              "</div>"
            ],
            "text/plain": [
              "          Survived    Pclass       Sex  ...     Parch      Fare  Embarked\n",
              "Survived  1.000000 -0.116340 -0.579062  ...  0.039435  0.029343 -0.072072\n",
              "Pclass   -0.116340  1.000000 -0.038892  ...  0.016491 -0.607256  0.115187\n",
              "Sex      -0.579062 -0.038892  1.000000  ... -0.103897 -0.006689  0.022350\n",
              "Age      -0.106578 -0.332233  0.176367  ... -0.207651  0.023235 -0.031098\n",
              "SibSp    -0.066943  0.087420 -0.184527  ...  0.399040  0.271997  0.085307\n",
              "Parch     0.039435  0.016491 -0.103897  ...  1.000000  0.254822  0.087342\n",
              "Fare      0.029343 -0.607256 -0.006689  ...  0.254822  1.000000 -0.112638\n",
              "Embarked -0.072072  0.115187  0.022350  ...  0.087342 -0.112638  1.000000\n",
              "\n",
              "[8 rows x 8 columns]"
            ]
          },
          "metadata": {
            "tags": []
          },
          "execution_count": 356
        }
      ]
    },
    {
      "cell_type": "code",
      "metadata": {
        "id": "NiKEML43rnMG",
        "colab_type": "code",
        "colab": {
          "base_uri": "https://localhost:8080/",
          "height": 52
        },
        "outputId": "59b34c46-cf00-4812-af8f-f059bdbd4cdb"
      },
      "source": [
        "from sklearn.model_selection import train_test_split\n",
        "\n",
        "train_df, test_df = train_test_split(\n",
        "    df, \n",
        "    test_size=0.2, \n",
        "    stratify=df['Survived'],\n",
        "    random_state=42)\n",
        "\n",
        "print(train_df.shape)\n",
        "print(test_df.shape)"
      ],
      "execution_count": 357,
      "outputs": [
        {
          "output_type": "stream",
          "text": [
            "(124, 8)\n",
            "(32, 8)\n"
          ],
          "name": "stdout"
        }
      ]
    },
    {
      "cell_type": "code",
      "metadata": {
        "id": "1oMwNVoGvgs5",
        "colab_type": "code",
        "colab": {
          "base_uri": "https://localhost:8080/",
          "height": 595
        },
        "outputId": "0d5aef60-5ef6-43c6-f949-8795f8f924cf"
      },
      "source": [
        "plt.figure(figsize=(12,10))\n",
        "cor = df.corr()\n",
        "sns.heatmap(cor, annot=True, cmap=plt.cm.Reds)\n",
        "plt.show()"
      ],
      "execution_count": 358,
      "outputs": [
        {
          "output_type": "display_data",
          "data": {
            "image/png": "[encoded data removed]",
            "text/plain": [
              "<Figure size 864x720 with 2 Axes>"
            ]
          },
          "metadata": {
            "tags": []
          }
        }
      ]
    },
    {
      "cell_type": "code",
      "metadata": {
        "id": "kI7BPX3ybcTN",
        "colab_type": "code",
        "colab": {
          "base_uri": "https://localhost:8080/",
          "height": 69
        },
        "outputId": "8a7d0c4d-e4ba-481e-8a36-72ddc9798762"
      },
      "source": [
        "#Correlation with output variable\n",
        "cor_target = abs(cor[\"Survived\"])#Selecting highly correlated features\n",
        "relevant_features = cor_target[cor_target>0.5]\n",
        "relevant_features"
      ],
      "execution_count": 359,
      "outputs": [
        {
          "output_type": "execute_result",
          "data": {
            "text/plain": [
              "Survived    1.000000\n",
              "Sex         0.579062\n",
              "Name: Survived, dtype: float64"
            ]
          },
          "metadata": {
            "tags": []
          },
          "execution_count": 359
        }
      ]
    },
    {
      "cell_type": "code",
      "metadata": {
        "id": "Ry09mOyKb4-O",
        "colab_type": "code",
        "colab": {}
      },
      "source": [
        "features = ['Sex']"
      ],
      "execution_count": 0,
      "outputs": []
    },
    {
      "cell_type": "code",
      "metadata": {
        "id": "B-9Zhm-YvirO",
        "colab_type": "code",
        "colab": {}
      },
      "source": [
        "from sklearn.preprocessing import RobustScaler\n",
        "\n",
        "scaler = RobustScaler()\n",
        "scaled_train_df = pd.DataFrame(\n",
        "    scaler.fit_transform(train_df[features]), \n",
        "    index=train_df.index,\n",
        "    columns=features)\n",
        "scaled_train_df['Survived'] = train_df['Survived']"
      ],
      "execution_count": 0,
      "outputs": []
    },
    {
      "cell_type": "code",
      "metadata": {
        "id": "Yze1iCZYxkqI",
        "colab_type": "code",
        "colab": {}
      },
      "source": [
        "# fig, axes = plt.subplots(nrows=8, ncols=2, figsize=(8, 8))\n",
        "# for i, c in enumerate(train_df.columns):\n",
        "#     if c == 'Survived':\n",
        "#       continue\n",
        "#     sns.violinplot(y='Survived', x=c, data=train_df, ax=axes[i][0])\n",
        "#     sns.violinplot(y='Survived', x=c, data=scaled_train_df, ax=axes[i][1])\n",
        "# plt.tight_layout()"
      ],
      "execution_count": 0,
      "outputs": []
    },
    {
      "cell_type": "code",
      "metadata": {
        "id": "-bRKCCsq68LW",
        "colab_type": "code",
        "colab": {}
      },
      "source": [
        "from sklearn.neighbors import KNeighborsClassifier\n",
        "\n",
        "clf = KNeighborsClassifier()\n",
        "clf = clf.fit(scaled_train_df[features], scaled_train_df['Survived'])"
      ],
      "execution_count": 0,
      "outputs": []
    },
    {
      "cell_type": "code",
      "metadata": {
        "id": "jumB9M4LUadg",
        "colab_type": "code",
        "colab": {
          "base_uri": "https://localhost:8080/",
          "height": 34
        },
        "outputId": "831dfe26-ae51-4d03-db8e-68167eaf6afd"
      },
      "source": [
        "from sklearn.metrics import accuracy_score\n",
        "\n",
        "y_pred_train = clf.predict(scaled_train_df[features])\n",
        "accuracy_score(train_df['Survived'], y_pred_train)"
      ],
      "execution_count": 364,
      "outputs": [
        {
          "output_type": "execute_result",
          "data": {
            "text/plain": [
              "0.8064516129032258"
            ]
          },
          "metadata": {
            "tags": []
          },
          "execution_count": 364
        }
      ]
    },
    {
      "cell_type": "code",
      "metadata": {
        "id": "5LHTcFPXUg-a",
        "colab_type": "code",
        "colab": {
          "base_uri": "https://localhost:8080/",
          "height": 34
        },
        "outputId": "a85ae455-39e9-4f5c-f0d7-114c4bfbeed8"
      },
      "source": [
        "scaled_test_df = pd.DataFrame(\n",
        "    scaler.transform(test_df[features]), \n",
        "    index=test_df.index,\n",
        "    columns=features)\n",
        "\n",
        "y_pred_test = clf.predict(scaled_test_df[features])\n",
        "accuracy_score(test_df['Survived'], y_pred_test)"
      ],
      "execution_count": 365,
      "outputs": [
        {
          "output_type": "execute_result",
          "data": {
            "text/plain": [
              "0.8125"
            ]
          },
          "metadata": {
            "tags": []
          },
          "execution_count": 365
        }
      ]
    }
  ]
}